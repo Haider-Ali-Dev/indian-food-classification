{
 "cells": [
  {
   "cell_type": "code",
   "execution_count": null,
   "id": "c270b6fe",
   "metadata": {},
   "outputs": [],
   "source": [
    "import pandas as pd\n",
    "import numpy as np\n",
    "import os\n",
    "from PIL import Image\n",
    "from sklearn.ensemble import RandomForestClassifier\n",
    "from sklearn.preprocessing import StandardScaler\n",
    "from sklearn.model_selection import train_test_split\n",
    "from sklearn.preprocessing import LabelBinarizer\n",
    "from sklearn.metrics import confusion_matrix\n",
    "from sklearn.metrics import ConfusionMatrixDisplay"
   ]
  },
  {
   "cell_type": "code",
   "execution_count": 57,
   "id": "908e6aa6",
   "metadata": {},
   "outputs": [],
   "source": [
    "features = []\n",
    "labels = []\n",
    "inp = os.listdir('input')"
   ]
  },
  {
   "cell_type": "code",
   "execution_count": 58,
   "id": "af20cd56",
   "metadata": {},
   "outputs": [
    {
     "data": {
      "text/plain": [
       "array(['chicken_tikka', 'chicken_tikka', 'chicken_tikka', 'chicken_tikka',\n",
       "       'chicken_tikka', 'chicken_tikka', 'chicken_tikka', 'chicken_tikka',\n",
       "       'chicken_tikka', 'chicken_tikka', 'chicken_tikka', 'chicken_tikka',\n",
       "       'chicken_tikka', 'chicken_tikka', 'chicken_tikka', 'chicken_tikka',\n",
       "       'chicken_tikka', 'chicken_tikka', 'chicken_tikka', 'chicken_tikka',\n",
       "       'chicken_tikka', 'chicken_tikka', 'chicken_tikka', 'chicken_tikka',\n",
       "       'chicken_tikka', 'chicken_tikka', 'chicken_tikka', 'chicken_tikka',\n",
       "       'chicken_tikka', 'chicken_tikka', 'chicken_tikka', 'chicken_tikka',\n",
       "       'chicken_tikka', 'chicken_tikka', 'chicken_tikka', 'chicken_tikka',\n",
       "       'chicken_tikka', 'chicken_tikka', 'chicken_tikka', 'chicken_tikka',\n",
       "       'chicken_tikka', 'chicken_tikka', 'chicken_tikka', 'chicken_tikka',\n",
       "       'chicken_tikka', 'chicken_tikka', 'chicken_tikka', 'chicken_tikka',\n",
       "       'chicken_tikka', 'chicken_tikka', 'aloo_gobi', 'aloo_gobi',\n",
       "       'aloo_gobi', 'aloo_gobi', 'aloo_gobi', 'aloo_gobi', 'aloo_gobi',\n",
       "       'aloo_gobi', 'aloo_gobi', 'aloo_gobi', 'aloo_gobi', 'aloo_gobi',\n",
       "       'aloo_gobi', 'aloo_gobi', 'aloo_gobi', 'aloo_gobi', 'aloo_gobi',\n",
       "       'aloo_gobi', 'aloo_gobi', 'aloo_gobi', 'aloo_gobi', 'aloo_gobi',\n",
       "       'aloo_gobi', 'aloo_gobi', 'aloo_gobi', 'aloo_gobi', 'aloo_gobi',\n",
       "       'aloo_gobi', 'aloo_gobi', 'aloo_gobi', 'aloo_gobi', 'aloo_gobi',\n",
       "       'aloo_gobi', 'aloo_gobi', 'aloo_gobi', 'aloo_gobi', 'aloo_gobi',\n",
       "       'aloo_gobi', 'aloo_gobi', 'aloo_gobi', 'aloo_gobi', 'aloo_gobi',\n",
       "       'aloo_gobi', 'aloo_gobi', 'aloo_gobi', 'aloo_gobi', 'aloo_gobi',\n",
       "       'aloo_gobi', 'aloo_gobi', 'aloo_gobi', 'biryani', 'biryani',\n",
       "       'biryani', 'biryani', 'biryani', 'biryani', 'biryani', 'biryani',\n",
       "       'biryani', 'biryani', 'biryani', 'biryani', 'biryani', 'biryani',\n",
       "       'biryani', 'biryani', 'biryani', 'biryani', 'biryani', 'biryani',\n",
       "       'biryani', 'biryani', 'biryani', 'biryani', 'biryani', 'biryani',\n",
       "       'biryani', 'biryani', 'biryani', 'biryani', 'biryani', 'biryani',\n",
       "       'biryani', 'biryani', 'biryani', 'biryani', 'biryani', 'biryani',\n",
       "       'biryani', 'biryani', 'biryani', 'biryani', 'biryani', 'biryani',\n",
       "       'biryani', 'biryani', 'biryani', 'biryani', 'biryani', 'biryani'],\n",
       "      dtype='<U13')"
      ]
     },
     "execution_count": 58,
     "metadata": {},
     "output_type": "execute_result"
    }
   ],
   "source": [
    "for food in inp:\n",
    "    food_dir = os.listdir(f\"input/{food}\")\n",
    "    for image in food_dir:\n",
    "        p_image = Image.open(f'input/{food}/{image}')\n",
    "        p_image = p_image.resize((224, 224))\n",
    "        p_image = np.array(p_image)\n",
    "        p_image = p_image.flatten()\n",
    "        features.append(p_image)\n",
    "        labels.append(food)\n",
    "\n",
    "features = np.array(features)\n",
    "labels = np.array(labels)\n",
    "labels"
   ]
  },
  {
   "cell_type": "code",
   "execution_count": 59,
   "id": "1472437b",
   "metadata": {},
   "outputs": [],
   "source": [
    "lb = LabelBinarizer()\n",
    "lb.fit(labels)\n",
    "y_bin = lb.transform(labels)\n",
    "scaler = StandardScaler()\n",
    "X_scaler = scaler.fit_transform(features)\n",
    "X_train, X_test, y_train, y_test = train_test_split(X_scaler, labels, test_size=0.2)"
   ]
  },
  {
   "cell_type": "code",
   "execution_count": 60,
   "id": "3de879da",
   "metadata": {},
   "outputs": [
    {
     "data": {
      "text/plain": [
       "array(['aloo_gobi', 'biryani', 'chicken_tikka', 'chicken_tikka',\n",
       "       'biryani', 'aloo_gobi', 'biryani', 'chicken_tikka',\n",
       "       'chicken_tikka', 'aloo_gobi', 'aloo_gobi', 'aloo_gobi',\n",
       "       'aloo_gobi', 'biryani', 'chicken_tikka', 'biryani', 'biryani',\n",
       "       'chicken_tikka', 'aloo_gobi', 'aloo_gobi', 'chicken_tikka',\n",
       "       'biryani', 'biryani', 'biryani', 'aloo_gobi', 'biryani',\n",
       "       'chicken_tikka', 'chicken_tikka', 'chicken_tikka', 'chicken_tikka'],\n",
       "      dtype='<U13')"
      ]
     },
     "execution_count": 60,
     "metadata": {},
     "output_type": "execute_result"
    }
   ],
   "source": [
    "model = RandomForestClassifier()\n",
    "model.fit(X_train, y_train)\n",
    "y_test"
   ]
  },
  {
   "cell_type": "code",
   "execution_count": 61,
   "id": "db353ce9",
   "metadata": {},
   "outputs": [
    {
     "data": {
      "image/png": "[encoded data removed]",
      "text/plain": [
       "<Figure size 640x480 with 2 Axes>"
      ]
     },
     "metadata": {},
     "output_type": "display_data"
    }
   ],
   "source": [
    "p = model.predict(X_test)\n",
    "cm = confusion_matrix(y_test, p)\n",
    "\n",
    "cm_display = ConfusionMatrixDisplay(cm).plot()"
   ]
  },
  {
   "cell_type": "code",
   "execution_count": null,
   "id": "1545ad88",
   "metadata": {},
   "outputs": [],
   "source": []
  },
  {
   "cell_type": "code",
   "execution_count": null,
   "id": "d80b20ad",
   "metadata": {},
   "outputs": [],
   "source": []
  }
 ],
 "metadata": {
  "kernelspec": {
   "display_name": "Python 3.11.0 64-bit",
   "language": "python",
   "name": "python3"
  },
  "language_info": {
   "codemirror_mode": {
    "name": "ipython",
    "version": 3
   },
   "file_extension": ".py",
   "mimetype": "text/x-python",
   "name": "python",
   "nbconvert_exporter": "python",
   "pygments_lexer": "ipython3",
   "version": "3.11.0"
  },
  "vscode": {
   "interpreter": {
    "hash": "ead1b95f633dc9c51826328e1846203f51a198c6fb5f2884a80417ba131d4e82"
   }
  }
 },
 "nbformat": 4,
 "nbformat_minor": 5
}
